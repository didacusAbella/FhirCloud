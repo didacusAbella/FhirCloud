{
 "cells": [
  {
   "cell_type": "code",
   "execution_count": null,
   "metadata": {
    "cell_status": {
     "execute_time": {
      "duration": 95.963134765625,
      "end_time": 1597500036890.024
     }
    },
    "scrolled": true
   },
   "outputs": [
    {
     "name": "stdout",
     "output_type": "stream",
     "text": [
      "Starting Spark application\n"
     ]
    },
    {
     "data": {
      "text/html": [
       "<table>\n",
       "<tr><th>ID</th><th>YARN Application ID</th><th>Kind</th><th>State</th><th>Spark UI</th><th>Driver log</th><th>Current session?</th></tr><tr><td>43</td><td>application_1597310133061_0060</td><td>pyspark3</td><td>idle</td><td><a target=\"_blank\" href=\"http://hn1-mriint.qsapwadcdyle5icdbhis2333ic.parx.internal.cloudapp.net:8088/proxy/application_1597310133061_0060/\">Link</a></td><td><a target=\"_blank\" href=\"http://wn1-mriint.qsapwadcdyle5icdbhis2333ic.parx.internal.cloudapp.net:30060/node/containerlogs/container_1597310133061_0060_01_000001/livy\">Link</a></td><td>✔</td></tr></table>"
      ],
      "text/plain": [
       "<IPython.core.display.HTML object>"
      ]
     },
     "metadata": {},
     "output_type": "display_data"
    },
    {
     "name": "stdout",
     "output_type": "stream",
     "text": [
      "SparkSession available as 'spark'.\n"
     ]
    }
   ],
   "source": [
    "from azure.storage.blob import BlobServiceClient, BlobClient, ContainerClient\n",
    "import pickle\n",
    "import numpy as np\n",
    "import matplotlib.pyplot as plt\n",
    "import matplotlib.patches as patch\n",
    "import io\n",
    "\n",
    "# directory where the volumetric data is located\n",
    "metadata_data_dir = 'wasb://binary@mriintegratiohdistorage.blob.core.windows.net/metadata.csv'\n",
    "volumetric_data_dir = 'wasb://binary@mriintegratiohdistorage.blob.core.windows.net/*.pck' \n",
    "connection_string = 'DefaultEndpointsProtocol=https;AccountName=storagemri;AccountKey=nKqQnTzgGJtsyxRhPjtbpD4kG9LJGqTa8qCRxko3/53332BeyBkJLn+/suIA0VI6fYIESCHq1us1aPwYp2dHlw==;EndpointSuffix=core.windows.net'\n",
    "blob_service_client = BlobServiceClient.from_connection_string(connection_string)\n",
    "\n",
    "\n",
    "def toImage(mri, metadata):\n",
    "    filename = mri[0].split(\"/\").pop()\n",
    "    exam = next((x for x in metadata if x['volumeFilename'] == filename), None)\n",
    "    volumetric_data = pickle.loads(mri[1])\n",
    "    # Get all roi slices from volume\n",
    "    z_start = exam['roiZ']\n",
    "    depth = exam['roiDepth']\n",
    "    plot = None\n",
    "    for z in range(z_start, z_start + depth):\n",
    "        slice = volumetric_data[z, :, :]\n",
    "        # Get roi dimensions\n",
    "        x, y, w, h = [exam[attr] for attr in ['roiX', 'roiY', 'roiWidth', 'roiHeight']]\n",
    "        # Extract ROI\n",
    "        roi = slice[y:y+h, x:x+w]\n",
    "        # Plot slice and roi\n",
    "        plt.ioff()\n",
    "        figure = plt.figure()\n",
    "        plot = plt.subplot2grid((1, 4), (0, 0), 1, 3) # This makes the slice plot larger than roi plot\n",
    "        plot.add_patch(patch.Rectangle((x, y), w, h, fill=None, color='red'))\n",
    "        plot.imshow(slice, cmap='gray')\n",
    "        plot = plt.subplot2grid((1, 4), (0, 3), 1, 1)\n",
    "        plot.imshow(roi, cmap='gray')\n",
    "    buf = io.BytesIO()\n",
    "    plot.figure.savefig(buf, format=\"png\")\n",
    "    buf.seek(0)\n",
    "    blob_client = blob_service_client.get_blob_client(container='images', blob=filename.replace(\"pck\", \"png\"))\n",
    "    blob_client.upload_blob(buf, overwrite=True)\n",
    "    buf.close()\n",
    "    \n",
    "metadata = spark.read.csv(metadata_data_dir, header='true', inferSchema='true').collect()\n",
    "mris = spark.sparkContext.binaryFiles(volumetric_data_dir).collect()\n",
    "for mri in mris:\n",
    "    toImage(mri, metadata)\n",
    "print(\"FinishJob!\")"
   ]
  },
  {
   "cell_type": "code",
   "execution_count": null,
   "metadata": {
    "collapsed": true
   },
   "outputs": [],
   "source": [
    "from azure.storage.blob import BlobServiceClient, BlobClient, ContainerClient\n",
    "import csv\n",
    "import io\n",
    "\n",
    "connection_string = 'DefaultEndpointsProtocol=https;AccountName=storagemri;AccountKey=nKqQnTzgGJtsyxRhPjtbpD4kG9LJGqTa8qCRxko3/53332BeyBkJLn+/suIA0VI6fYIESCHq1us1aPwYp2dHlw==;EndpointSuffix=core.windows.net'\n",
    "\n",
    "blob_service_client = BlobServiceClient.from_connection_string(connection_string)\n",
    "\n",
    "url = 'https://storagemri.blob.core.windows.net/images/'\n",
    "\n",
    "images_client = blob_service_client.get_container_client(\"images\")\n",
    "\n",
    "paths = [blob.name for blob in images_client.list_blobs()]\n",
    "\n",
    "imagingBlob = blob_service_client.get_blob_client(\"patient\", \"imaging_studies.csv\")\n",
    "\n",
    "imageContent = io.StringIO(imagingBlob.download_blob().content_as_text())\n",
    "\n",
    "imagingReader = csv.reader(imageContent)\n",
    "\n",
    "connection_string_2 = 'DefaultEndpointsProtocol=https;AccountName=mriintegratiohdistorage;AccountKey=cmcsqtmX2HjR39DOz1Uljvyn/R1+UISohM9sTT5BHaZ2SB239goRbi6Y1NLZ4G5V72pQPJyqeXJUSCmDPB/pdw==;EndpointSuffix=core.windows.net'\n",
    "\n",
    "blob_service_client_2 = BlobServiceClient.from_connection_string(connection_string_2)\n",
    "\n",
    "metadataBlob = blob_service_client_2.get_blob_client(\"binary\", \"metadata.csv\")\n",
    "\n",
    "metadataContent = io.StringIO(metadataBlob.download_blob().content_as_text())\n",
    "\n",
    "metadataReader = csv.reader(metadataContent, delimiter=\",\")\n",
    "\n",
    "pathDir = []\n",
    "for row in metadataReader:\n",
    "    name = row[10]\n",
    "    for path in paths:\n",
    "        filename = path.replace(\"png\", \"pck\")\n",
    "        if(name == filename):\n",
    "            direction = \"LX\" if row[3] == '1' else \"DX\"\n",
    "            pathDir.append([filename, direction])\n",
    "           \n",
    "\n",
    "\n",
    "output = io.StringIO()\n",
    "\n",
    "second_output = io.StringIO()\n",
    "\n",
    "writer = csv.writer(output)\n",
    "\n",
    "second_writer = csv.writer(second_output)\n",
    "\n",
    "header = ['Id','DATE','PATIENT','ENCOUNTER','BODYSITE_CODE','BODYSITE_DESCRIPTION','MODALITY_CODE','MODALITY_DESCRIPTION','SOP_CODE','SOP_DESCRIPTION', 'PATH']\n",
    "\n",
    "second_header = ['Imaging', 'Path']\n",
    "\n",
    "writer.writerow(header)\n",
    "\n",
    "second_writer.writerow(second_header)\n",
    "\n",
    "for index, row in enumerate(imagingReader):\n",
    "    if(index > 0 and index < 461):\n",
    "        row[4] = 72696002\n",
    "        row[5] = \"Knee\"\n",
    "        row[6] = pathDir[index - 1][0]\n",
    "        row[7] = \"MRI\"\n",
    "        row[8] = \"1.2.840.10008.5.1.4.1.4\"\n",
    "        row[9] = \"Magnetic Resonance\"\n",
    "        writer.writerow(row)\n",
    "        second_writer.writerow([row[0], \"https://storagemri.blob.core.windows.net/images/%s\" % pathDir[index - 1][0].replace(\"pck\", \"png\")])\n",
    "\n",
    "\n",
    "blob_client = blob_service_client.get_blob_client(\"patient\", \"mri_study.csv\")\n",
    "output.seek(0)\n",
    "blob_client.upload_blob(output.getvalue(), overwrite=True)\n",
    "\n",
    "blob_client = blob_service_client.get_blob_client(\"patient\", \"mri_images.csv\")\n",
    "second_output.seek(0)\n",
    "blob_client.upload_blob(second_output.getvalue(), overwrite=True)"
   ]
  }
 ],
 "metadata": {
  "kernelspec": {
   "display_name": "Python 3",
   "language": "python",
   "name": "python3"
  },
  "language_info": {
   "codemirror_mode": {
    "name": "ipython",
    "version": 3
   },
   "file_extension": ".py",
   "mimetype": "text/x-python",
   "name": "python",
   "nbconvert_exporter": "python",
   "pygments_lexer": "ipython3",
   "version": "3.8.6"
  }
 },
 "nbformat": 4,
 "nbformat_minor": 2
}
